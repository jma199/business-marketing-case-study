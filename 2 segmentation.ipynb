{
 "cells": [
  {
   "cell_type": "markdown",
   "metadata": {},
   "source": [
    "# Marketing Case Study"
   ]
  },
  {
   "cell_type": "code",
   "execution_count": 1,
   "metadata": {},
   "outputs": [],
   "source": [
    "import pandas as pd\n",
    "import numpy as np\n",
    "import matplotlib.pyplot as plt\n",
    "import seaborn as sns\n",
    "import datetime as dt\n",
    "\n",
    "from sklearn.compose import ColumnTransformer\n",
    "from sklearn.pipeline import Pipeline\n",
    "from sklearn.preprocessing import OneHotEncoder, OrdinalEncoder, StandardScaler\n",
    "from sklearn.cluster import KMeans\n",
    "from sklearn import preprocessing\n",
    "from sklearn.metrics import silhouette_score\n",
    "\n",
    "import warnings\n",
    "warnings.filterwarnings(\"ignore\")"
   ]
  },
  {
   "cell_type": "markdown",
   "metadata": {},
   "source": [
    "## Customer Segmentation\n",
    "\n",
    "A key objective is to create a predictive model which allows the company to maximize the profits of the next marketing campaign."
   ]
  },
  {
   "cell_type": "code",
   "execution_count": 2,
   "metadata": {},
   "outputs": [
    {
     "data": {
      "text/html": [
       "<div>\n",
       "<style scoped>\n",
       "    .dataframe tbody tr th:only-of-type {\n",
       "        vertical-align: middle;\n",
       "    }\n",
       "\n",
       "    .dataframe tbody tr th {\n",
       "        vertical-align: top;\n",
       "    }\n",
       "\n",
       "    .dataframe thead th {\n",
       "        text-align: right;\n",
       "    }\n",
       "</style>\n",
       "<table border=\"1\" class=\"dataframe\">\n",
       "  <thead>\n",
       "    <tr style=\"text-align: right;\">\n",
       "      <th></th>\n",
       "      <th>Unnamed: 0</th>\n",
       "      <th>Education</th>\n",
       "      <th>Marital_Status</th>\n",
       "      <th>Income</th>\n",
       "      <th>Kidhome</th>\n",
       "      <th>Teenhome</th>\n",
       "      <th>Recency</th>\n",
       "      <th>MntWines</th>\n",
       "      <th>MntFruits</th>\n",
       "      <th>MntMeatProducts</th>\n",
       "      <th>...</th>\n",
       "      <th>AcceptedCmp2</th>\n",
       "      <th>Response</th>\n",
       "      <th>Complain</th>\n",
       "      <th>Country</th>\n",
       "      <th>Age</th>\n",
       "      <th>Length_customer_yrs</th>\n",
       "      <th>Dependents</th>\n",
       "      <th>Total_Spent</th>\n",
       "      <th>total_purchases</th>\n",
       "      <th>Total_Accepted_Camp</th>\n",
       "    </tr>\n",
       "  </thead>\n",
       "  <tbody>\n",
       "    <tr>\n",
       "      <th>0</th>\n",
       "      <td>0</td>\n",
       "      <td>Graduation</td>\n",
       "      <td>Divorced</td>\n",
       "      <td>84835.0</td>\n",
       "      <td>0</td>\n",
       "      <td>0</td>\n",
       "      <td>0</td>\n",
       "      <td>15.88</td>\n",
       "      <td>8.74</td>\n",
       "      <td>31.85</td>\n",
       "      <td>...</td>\n",
       "      <td>0</td>\n",
       "      <td>1</td>\n",
       "      <td>0</td>\n",
       "      <td>SP</td>\n",
       "      <td>52</td>\n",
       "      <td>8.03</td>\n",
       "      <td>0</td>\n",
       "      <td>1190</td>\n",
       "      <td>14</td>\n",
       "      <td>0</td>\n",
       "    </tr>\n",
       "    <tr>\n",
       "      <th>1</th>\n",
       "      <td>1</td>\n",
       "      <td>Graduation</td>\n",
       "      <td>Single</td>\n",
       "      <td>57091.0</td>\n",
       "      <td>0</td>\n",
       "      <td>0</td>\n",
       "      <td>0</td>\n",
       "      <td>80.42</td>\n",
       "      <td>0.87</td>\n",
       "      <td>11.09</td>\n",
       "      <td>...</td>\n",
       "      <td>1</td>\n",
       "      <td>1</td>\n",
       "      <td>0</td>\n",
       "      <td>CA</td>\n",
       "      <td>61</td>\n",
       "      <td>8.03</td>\n",
       "      <td>0</td>\n",
       "      <td>577</td>\n",
       "      <td>17</td>\n",
       "      <td>1</td>\n",
       "    </tr>\n",
       "    <tr>\n",
       "      <th>2</th>\n",
       "      <td>2</td>\n",
       "      <td>Graduation</td>\n",
       "      <td>Married</td>\n",
       "      <td>67267.0</td>\n",
       "      <td>0</td>\n",
       "      <td>1</td>\n",
       "      <td>0</td>\n",
       "      <td>53.39</td>\n",
       "      <td>4.38</td>\n",
       "      <td>23.51</td>\n",
       "      <td>...</td>\n",
       "      <td>0</td>\n",
       "      <td>0</td>\n",
       "      <td>0</td>\n",
       "      <td>US</td>\n",
       "      <td>64</td>\n",
       "      <td>8.12</td>\n",
       "      <td>1</td>\n",
       "      <td>251</td>\n",
       "      <td>10</td>\n",
       "      <td>0</td>\n",
       "    </tr>\n",
       "    <tr>\n",
       "      <th>3</th>\n",
       "      <td>3</td>\n",
       "      <td>Graduation</td>\n",
       "      <td>Together</td>\n",
       "      <td>32474.0</td>\n",
       "      <td>1</td>\n",
       "      <td>1</td>\n",
       "      <td>0</td>\n",
       "      <td>90.91</td>\n",
       "      <td>0.00</td>\n",
       "      <td>9.09</td>\n",
       "      <td>...</td>\n",
       "      <td>0</td>\n",
       "      <td>0</td>\n",
       "      <td>0</td>\n",
       "      <td>AUS</td>\n",
       "      <td>55</td>\n",
       "      <td>8.13</td>\n",
       "      <td>2</td>\n",
       "      <td>11</td>\n",
       "      <td>3</td>\n",
       "      <td>0</td>\n",
       "    </tr>\n",
       "    <tr>\n",
       "      <th>4</th>\n",
       "      <td>4</td>\n",
       "      <td>Graduation</td>\n",
       "      <td>Single</td>\n",
       "      <td>21474.0</td>\n",
       "      <td>1</td>\n",
       "      <td>0</td>\n",
       "      <td>0</td>\n",
       "      <td>6.59</td>\n",
       "      <td>17.58</td>\n",
       "      <td>26.37</td>\n",
       "      <td>...</td>\n",
       "      <td>0</td>\n",
       "      <td>1</td>\n",
       "      <td>0</td>\n",
       "      <td>SP</td>\n",
       "      <td>33</td>\n",
       "      <td>8.22</td>\n",
       "      <td>1</td>\n",
       "      <td>91</td>\n",
       "      <td>6</td>\n",
       "      <td>1</td>\n",
       "    </tr>\n",
       "  </tbody>\n",
       "</table>\n",
       "<p>5 rows × 32 columns</p>\n",
       "</div>"
      ],
      "text/plain": [
       "   Unnamed: 0   Education Marital_Status   Income  Kidhome  Teenhome  Recency  \\\n",
       "0           0  Graduation       Divorced  84835.0        0         0        0   \n",
       "1           1  Graduation         Single  57091.0        0         0        0   \n",
       "2           2  Graduation        Married  67267.0        0         1        0   \n",
       "3           3  Graduation       Together  32474.0        1         1        0   \n",
       "4           4  Graduation         Single  21474.0        1         0        0   \n",
       "\n",
       "   MntWines  MntFruits  MntMeatProducts  ...  AcceptedCmp2  Response  \\\n",
       "0     15.88       8.74            31.85  ...             0         1   \n",
       "1     80.42       0.87            11.09  ...             1         1   \n",
       "2     53.39       4.38            23.51  ...             0         0   \n",
       "3     90.91       0.00             9.09  ...             0         0   \n",
       "4      6.59      17.58            26.37  ...             0         1   \n",
       "\n",
       "   Complain  Country  Age  Length_customer_yrs  Dependents  Total_Spent  \\\n",
       "0         0       SP   52                 8.03           0         1190   \n",
       "1         0       CA   61                 8.03           0          577   \n",
       "2         0       US   64                 8.12           1          251   \n",
       "3         0      AUS   55                 8.13           2           11   \n",
       "4         0       SP   33                 8.22           1           91   \n",
       "\n",
       "   total_purchases  Total_Accepted_Camp  \n",
       "0               14                    0  \n",
       "1               17                    1  \n",
       "2               10                    0  \n",
       "3                3                    0  \n",
       "4                6                    1  \n",
       "\n",
       "[5 rows x 32 columns]"
      ]
     },
     "execution_count": 2,
     "metadata": {},
     "output_type": "execute_result"
    }
   ],
   "source": [
    "# load data\n",
    "with open(\"processed_data.csv\", \"r\") as f:\n",
    "    data = pd.read_csv(f)\n",
    "\n",
    "data.head()"
   ]
  },
  {
   "cell_type": "code",
   "execution_count": 3,
   "metadata": {},
   "outputs": [],
   "source": [
    "data.drop(columns=[\"Unnamed: 0\", \"Response\"], inplace=True)"
   ]
  },
  {
   "cell_type": "code",
   "execution_count": 4,
   "metadata": {},
   "outputs": [],
   "source": [
    "# data.columns.to_list()"
   ]
  },
  {
   "cell_type": "code",
   "execution_count": 5,
   "metadata": {},
   "outputs": [],
   "source": [
    "# The KMeans algorithm does not perform well with binary data.\n",
    "\n",
    "seg_cols = ['Education',\n",
    " 'Marital_Status',\n",
    " 'Income',\n",
    " 'Recency',\n",
    " 'MntWines',\n",
    " 'MntFruits',\n",
    " 'MntMeatProducts',\n",
    " 'MntFishProducts',\n",
    " 'MntSweetProducts',\n",
    " 'MntGoldProds',\n",
    " 'NumDealsPurchases',\n",
    " 'NumWebVisitsMonth',\n",
    " 'Complain',\n",
    " 'Country',\n",
    " 'Age',\n",
    " 'Length_customer_yrs',\n",
    " 'Dependents',\n",
    " 'Total_Spent',\n",
    " 'total_purchases',\n",
    " 'Total_Accepted_Camp']"
   ]
  },
  {
   "cell_type": "code",
   "execution_count": 6,
   "metadata": {},
   "outputs": [],
   "source": [
    "seg_df = pd.DataFrame(data[seg_cols])"
   ]
  },
  {
   "cell_type": "code",
   "execution_count": 7,
   "metadata": {},
   "outputs": [
    {
     "data": {
      "text/html": [
       "<div>\n",
       "<style scoped>\n",
       "    .dataframe tbody tr th:only-of-type {\n",
       "        vertical-align: middle;\n",
       "    }\n",
       "\n",
       "    .dataframe tbody tr th {\n",
       "        vertical-align: top;\n",
       "    }\n",
       "\n",
       "    .dataframe thead th {\n",
       "        text-align: right;\n",
       "    }\n",
       "</style>\n",
       "<table border=\"1\" class=\"dataframe\">\n",
       "  <thead>\n",
       "    <tr style=\"text-align: right;\">\n",
       "      <th></th>\n",
       "      <th>Education</th>\n",
       "      <th>Marital_Status</th>\n",
       "      <th>Income</th>\n",
       "      <th>Recency</th>\n",
       "      <th>MntWines</th>\n",
       "      <th>MntFruits</th>\n",
       "      <th>MntMeatProducts</th>\n",
       "      <th>MntFishProducts</th>\n",
       "      <th>MntSweetProducts</th>\n",
       "      <th>MntGoldProds</th>\n",
       "      <th>NumDealsPurchases</th>\n",
       "      <th>NumWebVisitsMonth</th>\n",
       "      <th>Complain</th>\n",
       "      <th>Country</th>\n",
       "      <th>Age</th>\n",
       "      <th>Length_customer_yrs</th>\n",
       "      <th>Dependents</th>\n",
       "      <th>Total_Spent</th>\n",
       "      <th>total_purchases</th>\n",
       "      <th>Total_Accepted_Camp</th>\n",
       "    </tr>\n",
       "  </thead>\n",
       "  <tbody>\n",
       "    <tr>\n",
       "      <th>0</th>\n",
       "      <td>Graduation</td>\n",
       "      <td>Divorced</td>\n",
       "      <td>84835.0</td>\n",
       "      <td>0</td>\n",
       "      <td>15.88</td>\n",
       "      <td>8.74</td>\n",
       "      <td>31.85</td>\n",
       "      <td>9.33</td>\n",
       "      <td>15.88</td>\n",
       "      <td>18.32</td>\n",
       "      <td>1</td>\n",
       "      <td>1</td>\n",
       "      <td>0</td>\n",
       "      <td>SP</td>\n",
       "      <td>52</td>\n",
       "      <td>8.03</td>\n",
       "      <td>0</td>\n",
       "      <td>1190</td>\n",
       "      <td>14</td>\n",
       "      <td>0</td>\n",
       "    </tr>\n",
       "    <tr>\n",
       "      <th>1</th>\n",
       "      <td>Graduation</td>\n",
       "      <td>Single</td>\n",
       "      <td>57091.0</td>\n",
       "      <td>0</td>\n",
       "      <td>80.42</td>\n",
       "      <td>0.87</td>\n",
       "      <td>11.09</td>\n",
       "      <td>1.21</td>\n",
       "      <td>0.00</td>\n",
       "      <td>6.41</td>\n",
       "      <td>1</td>\n",
       "      <td>5</td>\n",
       "      <td>0</td>\n",
       "      <td>CA</td>\n",
       "      <td>61</td>\n",
       "      <td>8.03</td>\n",
       "      <td>0</td>\n",
       "      <td>577</td>\n",
       "      <td>17</td>\n",
       "      <td>1</td>\n",
       "    </tr>\n",
       "    <tr>\n",
       "      <th>2</th>\n",
       "      <td>Graduation</td>\n",
       "      <td>Married</td>\n",
       "      <td>67267.0</td>\n",
       "      <td>0</td>\n",
       "      <td>53.39</td>\n",
       "      <td>4.38</td>\n",
       "      <td>23.51</td>\n",
       "      <td>5.98</td>\n",
       "      <td>0.80</td>\n",
       "      <td>11.95</td>\n",
       "      <td>1</td>\n",
       "      <td>2</td>\n",
       "      <td>0</td>\n",
       "      <td>US</td>\n",
       "      <td>64</td>\n",
       "      <td>8.12</td>\n",
       "      <td>1</td>\n",
       "      <td>251</td>\n",
       "      <td>10</td>\n",
       "      <td>0</td>\n",
       "    </tr>\n",
       "    <tr>\n",
       "      <th>3</th>\n",
       "      <td>Graduation</td>\n",
       "      <td>Together</td>\n",
       "      <td>32474.0</td>\n",
       "      <td>0</td>\n",
       "      <td>90.91</td>\n",
       "      <td>0.00</td>\n",
       "      <td>9.09</td>\n",
       "      <td>0.00</td>\n",
       "      <td>0.00</td>\n",
       "      <td>0.00</td>\n",
       "      <td>1</td>\n",
       "      <td>7</td>\n",
       "      <td>0</td>\n",
       "      <td>AUS</td>\n",
       "      <td>55</td>\n",
       "      <td>8.13</td>\n",
       "      <td>2</td>\n",
       "      <td>11</td>\n",
       "      <td>3</td>\n",
       "      <td>0</td>\n",
       "    </tr>\n",
       "    <tr>\n",
       "      <th>4</th>\n",
       "      <td>Graduation</td>\n",
       "      <td>Single</td>\n",
       "      <td>21474.0</td>\n",
       "      <td>0</td>\n",
       "      <td>6.59</td>\n",
       "      <td>17.58</td>\n",
       "      <td>26.37</td>\n",
       "      <td>12.09</td>\n",
       "      <td>0.00</td>\n",
       "      <td>37.36</td>\n",
       "      <td>2</td>\n",
       "      <td>7</td>\n",
       "      <td>0</td>\n",
       "      <td>SP</td>\n",
       "      <td>33</td>\n",
       "      <td>8.22</td>\n",
       "      <td>1</td>\n",
       "      <td>91</td>\n",
       "      <td>6</td>\n",
       "      <td>1</td>\n",
       "    </tr>\n",
       "  </tbody>\n",
       "</table>\n",
       "</div>"
      ],
      "text/plain": [
       "    Education Marital_Status   Income  Recency  MntWines  MntFruits  \\\n",
       "0  Graduation       Divorced  84835.0        0     15.88       8.74   \n",
       "1  Graduation         Single  57091.0        0     80.42       0.87   \n",
       "2  Graduation        Married  67267.0        0     53.39       4.38   \n",
       "3  Graduation       Together  32474.0        0     90.91       0.00   \n",
       "4  Graduation         Single  21474.0        0      6.59      17.58   \n",
       "\n",
       "   MntMeatProducts  MntFishProducts  MntSweetProducts  MntGoldProds  \\\n",
       "0            31.85             9.33             15.88         18.32   \n",
       "1            11.09             1.21              0.00          6.41   \n",
       "2            23.51             5.98              0.80         11.95   \n",
       "3             9.09             0.00              0.00          0.00   \n",
       "4            26.37            12.09              0.00         37.36   \n",
       "\n",
       "   NumDealsPurchases  NumWebVisitsMonth  Complain Country  Age  \\\n",
       "0                  1                  1         0      SP   52   \n",
       "1                  1                  5         0      CA   61   \n",
       "2                  1                  2         0      US   64   \n",
       "3                  1                  7         0     AUS   55   \n",
       "4                  2                  7         0      SP   33   \n",
       "\n",
       "   Length_customer_yrs  Dependents  Total_Spent  total_purchases  \\\n",
       "0                 8.03           0         1190               14   \n",
       "1                 8.03           0          577               17   \n",
       "2                 8.12           1          251               10   \n",
       "3                 8.13           2           11                3   \n",
       "4                 8.22           1           91                6   \n",
       "\n",
       "   Total_Accepted_Camp  \n",
       "0                    0  \n",
       "1                    1  \n",
       "2                    0  \n",
       "3                    0  \n",
       "4                    1  "
      ]
     },
     "execution_count": 7,
     "metadata": {},
     "output_type": "execute_result"
    }
   ],
   "source": [
    "seg_df.head()"
   ]
  },
  {
   "cell_type": "code",
   "execution_count": 8,
   "metadata": {},
   "outputs": [
    {
     "name": "stdout",
     "output_type": "stream",
     "text": [
      "<class 'pandas.core.frame.DataFrame'>\n",
      "RangeIndex: 2190 entries, 0 to 2189\n",
      "Data columns (total 20 columns):\n",
      " #   Column               Non-Null Count  Dtype  \n",
      "---  ------               --------------  -----  \n",
      " 0   Education            2190 non-null   object \n",
      " 1   Marital_Status       2190 non-null   object \n",
      " 2   Income               2190 non-null   float64\n",
      " 3   Recency              2190 non-null   int64  \n",
      " 4   MntWines             2190 non-null   float64\n",
      " 5   MntFruits            2190 non-null   float64\n",
      " 6   MntMeatProducts      2190 non-null   float64\n",
      " 7   MntFishProducts      2190 non-null   float64\n",
      " 8   MntSweetProducts     2190 non-null   float64\n",
      " 9   MntGoldProds         2190 non-null   float64\n",
      " 10  NumDealsPurchases    2190 non-null   int64  \n",
      " 11  NumWebVisitsMonth    2190 non-null   int64  \n",
      " 12  Complain             2190 non-null   int64  \n",
      " 13  Country              2190 non-null   object \n",
      " 14  Age                  2190 non-null   int64  \n",
      " 15  Length_customer_yrs  2190 non-null   float64\n",
      " 16  Dependents           2190 non-null   int64  \n",
      " 17  Total_Spent          2190 non-null   int64  \n",
      " 18  total_purchases      2190 non-null   int64  \n",
      " 19  Total_Accepted_Camp  2190 non-null   int64  \n",
      "dtypes: float64(8), int64(9), object(3)\n",
      "memory usage: 342.3+ KB\n"
     ]
    }
   ],
   "source": [
    "seg_df.info()"
   ]
  },
  {
   "cell_type": "code",
   "execution_count": 9,
   "metadata": {},
   "outputs": [],
   "source": [
    "del data"
   ]
  },
  {
   "cell_type": "markdown",
   "metadata": {},
   "source": [
    "## Pre-Processing Data\n",
    "\n",
    "Performing customer segmentation using machine learning requires some preprocessing of the data.\n",
    "- First, if the data are skewed, then the data needs to be transformed\n",
    "- Next, there are a few categorical features that need to be encoded\n",
    "- Finally, the data are centered and scaled using StandardScaler() method."
   ]
  },
  {
   "cell_type": "markdown",
   "metadata": {},
   "source": [
    "Use sklearn pipeline to streamline the pre-processing of data needed before modeling.\n",
    "\n",
    "https://scikit-learn.org/stable/auto_examples/compose/plot_column_transformer_mixed_types.html#sphx-glr-auto-examples-compose-plot-column-transformer-mixed-types-py"
   ]
  },
  {
   "cell_type": "code",
   "execution_count": 29,
   "metadata": {},
   "outputs": [],
   "source": [
    "# scale numerical features\n",
    "num_features = seg_df.select_dtypes(exclude=\"object\").columns\n",
    "num_scaler = Pipeline(\n",
    "    steps=[('scaler', StandardScaler())]\n",
    ")\n",
    "\n",
    "# nominal categorical data\n",
    "nom_cat = ['Marital_Status', 'Country']\n",
    "one_hot_encoder = OneHotEncoder(handle_unknown=\"ignore\")\n",
    "\n",
    "# ordered categorical data\n",
    "ord_cat = ['Education']\n",
    "ord_encoder = OrdinalEncoder()\n",
    "\n",
    "preprocessor = ColumnTransformer(\n",
    "    transformers= [\n",
    "        (\"scaler\", num_scaler, num_features),\n",
    "        (\"nom\", one_hot_encoder, nom_cat),\n",
    "        (\"ord\", ord_encoder, ord_cat)\n",
    "    ]\n",
    ")"
   ]
  },
  {
   "cell_type": "code",
   "execution_count": 30,
   "metadata": {},
   "outputs": [
    {
     "data": {
      "text/plain": [
       "ColumnTransformer(transformers=[('scaler',\n",
       "                                 Pipeline(steps=[('scaler', StandardScaler())]),\n",
       "                                 Index(['Income', 'Recency', 'MntWines', 'MntFruits', 'MntMeatProducts',\n",
       "       'MntFishProducts', 'MntSweetProducts', 'MntGoldProds',\n",
       "       'NumDealsPurchases', 'NumWebVisitsMonth', 'Complain', 'Age',\n",
       "       'Length_customer_yrs', 'Dependents', 'Total_Spent', 'total_purchases',\n",
       "       'Total_Accepted_Camp'],\n",
       "      dtype='object')),\n",
       "                                ('nom', OneHotEncoder(handle_unknown='ignore'),\n",
       "                                 ['Marital_Status', 'Country']),\n",
       "                                ('ord', OrdinalEncoder(), ['Education'])])"
      ]
     },
     "execution_count": 30,
     "metadata": {},
     "output_type": "execute_result"
    }
   ],
   "source": [
    "preprocessor"
   ]
  },
  {
   "cell_type": "code",
   "execution_count": 31,
   "metadata": {},
   "outputs": [],
   "source": [
    "prep_data = preprocessor.fit_transform(seg_df)"
   ]
  },
  {
   "cell_type": "code",
   "execution_count": 32,
   "metadata": {},
   "outputs": [
    {
     "data": {
      "image/png": "[encoded data removed]",
      "text/plain": [
       "<Figure size 432x288 with 1 Axes>"
      ]
     },
     "metadata": {
      "needs_background": "light"
     },
     "output_type": "display_data"
    }
   ],
   "source": [
    "inertia_scores = []\n",
    "silhouette_scores = []\n",
    "\n",
    "for n in range(2, 11):\n",
    "    kmeans = KMeans(n_clusters = n, init=\"k-means++\", random_state =43)\n",
    "    kmeans.fit(prep_data)\n",
    "    inertia_scores.append(kmeans.inertia_)\n",
    "    sscore = silhouette_score(prep_data, kmeans.labels_)\n",
    "    silhouette_scores.append(sscore)\n",
    "\n",
    "plt.plot(range(2, 11), inertia_scores, marker = \"o\")\n",
    "plt.xlabel(\"Clusters\")\n",
    "plt.ylabel(\"Inertia scores\")\n",
    "plt.show()"
   ]
  },
  {
   "cell_type": "code",
   "execution_count": 33,
   "metadata": {},
   "outputs": [
    {
     "data": {
      "image/png": "[encoded data removed]",
      "text/plain": [
       "<Figure size 432x288 with 1 Axes>"
      ]
     },
     "metadata": {
      "needs_background": "light"
     },
     "output_type": "display_data"
    }
   ],
   "source": [
    "plt.plot(range(2, 11), silhouette_scores, marker = \"o\")\n",
    "plt.xticks(range(2,11))\n",
    "plt.xlabel(\"Clusters\")\n",
    "plt.ylabel(\"Silhouette Coefficient\")\n",
    "plt.show()"
   ]
  },
  {
   "cell_type": "markdown",
   "metadata": {},
   "source": [
    "The plot of average silhouette scores indicates that k = 3 is the best value."
   ]
  },
  {
   "cell_type": "markdown",
   "metadata": {},
   "source": [
    "## Create Model with 3 Clusters\n",
    "\n",
    "Add KMeans model to pipeline with 3 clusters.\n",
    "\n",
    "We will also use PCA to reduce the number of dimensions from 20 to 2"
   ]
  },
  {
   "cell_type": "code",
   "execution_count": 45,
   "metadata": {},
   "outputs": [],
   "source": [
    "from sklearn.decomposition import PCA\n",
    "\n",
    "reduce_dim = Pipeline(\n",
    "    [('reduce_dim', \n",
    "        PCA(n_components=2, random_state=42)\n",
    "        )])"
   ]
  },
  {
   "cell_type": "code",
   "execution_count": 46,
   "metadata": {},
   "outputs": [],
   "source": [
    "n_clusters = 3\n",
    "\n",
    "segmenter = Pipeline(\n",
    "    [(\"kmeans\",\n",
    "        KMeans(\n",
    "            n_clusters=n_clusters,\n",
    "            init=\"k-means++\",\n",
    "            n_init=10,\n",
    "            max_iter=300,\n",
    "            random_state=3\n",
    "        ))])"
   ]
  },
  {
   "cell_type": "code",
   "execution_count": 47,
   "metadata": {},
   "outputs": [],
   "source": [
    "clf_pipe = Pipeline(\n",
    "    steps=[\n",
    "        (\"preprocessor\", preprocessor),\n",
    "        (\"reduce_dim\", reduce_dim),\n",
    "        (\"segmenter\", segmenter)\n",
    "        ])"
   ]
  },
  {
   "cell_type": "code",
   "execution_count": 48,
   "metadata": {},
   "outputs": [],
   "source": [
    "kmeans = clf_pipe.fit(seg_df)\n",
    "preds = kmeans.predict(seg_df)\n",
    "seg_df['Cluster'] = preds + 1"
   ]
  },
  {
   "cell_type": "code",
   "execution_count": 49,
   "metadata": {},
   "outputs": [
    {
     "data": {
      "text/plain": [
       "1    910\n",
       "2    670\n",
       "3    610\n",
       "Name: Cluster, dtype: int64"
      ]
     },
     "execution_count": 49,
     "metadata": {},
     "output_type": "execute_result"
    }
   ],
   "source": [
    "# counts of clusters with PCA\n",
    "seg_df['Cluster'].value_counts()"
   ]
  },
  {
   "cell_type": "code",
   "execution_count": 38,
   "metadata": {},
   "outputs": [
    {
     "data": {
      "text/plain": [
       "1    922\n",
       "2    660\n",
       "3    608\n",
       "Name: Cluster, dtype: int64"
      ]
     },
     "execution_count": 38,
     "metadata": {},
     "output_type": "execute_result"
    }
   ],
   "source": [
    "# count of clusters before PCA\n",
    "# seg_df['Cluster'].value_counts()"
   ]
  },
  {
   "cell_type": "code",
   "execution_count": 57,
   "metadata": {},
   "outputs": [],
   "source": [
    "pcadf = pd.DataFrame(\n",
    "    clf_pipe[:-1].transform(seg_df),\n",
    "    columns=[\"component_1\", \"component_2\"])\n",
    "\n",
    "pcadf[\"predicted_cluster\"] = clf_pipe[\"segmenter\"][\"kmeans\"].labels_"
   ]
  },
  {
   "cell_type": "code",
   "execution_count": 60,
   "metadata": {},
   "outputs": [
    {
     "data": {
      "image/png": "[encoded data removed]",
      "text/plain": [
       "<Figure size 576x576 with 1 Axes>"
      ]
     },
     "metadata": {
      "needs_background": "light"
     },
     "output_type": "display_data"
    }
   ],
   "source": [
    "plt.figure(figsize=(8,8))\n",
    "g = sns.scatterplot(\n",
    "    \"component_1\", \"component_2\",\n",
    "    data=pcadf,\n",
    "    hue=\"predicted_cluster\",\n",
    "    s=50\n",
    ")\n",
    "g.set_title(\"Clustering results from Marketing Data\")\n",
    "plt.show()"
   ]
  },
  {
   "cell_type": "code",
   "execution_count": 67,
   "metadata": {},
   "outputs": [
    {
     "data": {
      "text/html": [
       "<div>\n",
       "<style scoped>\n",
       "    .dataframe tbody tr th:only-of-type {\n",
       "        vertical-align: middle;\n",
       "    }\n",
       "\n",
       "    .dataframe tbody tr th {\n",
       "        vertical-align: top;\n",
       "    }\n",
       "\n",
       "    .dataframe thead th {\n",
       "        text-align: right;\n",
       "    }\n",
       "</style>\n",
       "<table border=\"1\" class=\"dataframe\">\n",
       "  <thead>\n",
       "    <tr style=\"text-align: right;\">\n",
       "      <th></th>\n",
       "      <th>component_1</th>\n",
       "      <th>component_2</th>\n",
       "      <th>predicted_cluster</th>\n",
       "    </tr>\n",
       "  </thead>\n",
       "  <tbody>\n",
       "    <tr>\n",
       "      <th>0</th>\n",
       "      <td>0.281521</td>\n",
       "      <td>-3.257618</td>\n",
       "      <td>1</td>\n",
       "    </tr>\n",
       "    <tr>\n",
       "      <th>1</th>\n",
       "      <td>1.828689</td>\n",
       "      <td>0.534799</td>\n",
       "      <td>0</td>\n",
       "    </tr>\n",
       "    <tr>\n",
       "      <th>2</th>\n",
       "      <td>0.437444</td>\n",
       "      <td>-0.023757</td>\n",
       "      <td>0</td>\n",
       "    </tr>\n",
       "    <tr>\n",
       "      <th>3</th>\n",
       "      <td>-0.278708</td>\n",
       "      <td>2.971412</td>\n",
       "      <td>0</td>\n",
       "    </tr>\n",
       "    <tr>\n",
       "      <th>4</th>\n",
       "      <td>-3.235258</td>\n",
       "      <td>-1.127971</td>\n",
       "      <td>2</td>\n",
       "    </tr>\n",
       "  </tbody>\n",
       "</table>\n",
       "</div>"
      ],
      "text/plain": [
       "   component_1  component_2  predicted_cluster\n",
       "0     0.281521    -3.257618                  1\n",
       "1     1.828689     0.534799                  0\n",
       "2     0.437444    -0.023757                  0\n",
       "3    -0.278708     2.971412                  0\n",
       "4    -3.235258    -1.127971                  2"
      ]
     },
     "execution_count": 67,
     "metadata": {},
     "output_type": "execute_result"
    }
   ],
   "source": [
    "pcadf.head()"
   ]
  },
  {
   "cell_type": "code",
   "execution_count": 68,
   "metadata": {},
   "outputs": [
    {
     "data": {
      "text/html": [
       "<div>\n",
       "<style scoped>\n",
       "    .dataframe tbody tr th:only-of-type {\n",
       "        vertical-align: middle;\n",
       "    }\n",
       "\n",
       "    .dataframe tbody tr th {\n",
       "        vertical-align: top;\n",
       "    }\n",
       "\n",
       "    .dataframe thead th {\n",
       "        text-align: right;\n",
       "    }\n",
       "</style>\n",
       "<table border=\"1\" class=\"dataframe\">\n",
       "  <thead>\n",
       "    <tr style=\"text-align: right;\">\n",
       "      <th></th>\n",
       "      <th>Education</th>\n",
       "      <th>Marital_Status</th>\n",
       "      <th>Income</th>\n",
       "      <th>Recency</th>\n",
       "      <th>MntWines</th>\n",
       "      <th>MntFruits</th>\n",
       "      <th>MntMeatProducts</th>\n",
       "      <th>MntFishProducts</th>\n",
       "      <th>MntSweetProducts</th>\n",
       "      <th>MntGoldProds</th>\n",
       "      <th>...</th>\n",
       "      <th>NumWebVisitsMonth</th>\n",
       "      <th>Complain</th>\n",
       "      <th>Country</th>\n",
       "      <th>Age</th>\n",
       "      <th>Length_customer_yrs</th>\n",
       "      <th>Dependents</th>\n",
       "      <th>Total_Spent</th>\n",
       "      <th>total_purchases</th>\n",
       "      <th>Total_Accepted_Camp</th>\n",
       "      <th>Cluster</th>\n",
       "    </tr>\n",
       "  </thead>\n",
       "  <tbody>\n",
       "    <tr>\n",
       "      <th>0</th>\n",
       "      <td>Graduation</td>\n",
       "      <td>Divorced</td>\n",
       "      <td>84835.0</td>\n",
       "      <td>0</td>\n",
       "      <td>15.88</td>\n",
       "      <td>8.74</td>\n",
       "      <td>31.85</td>\n",
       "      <td>9.33</td>\n",
       "      <td>15.88</td>\n",
       "      <td>18.32</td>\n",
       "      <td>...</td>\n",
       "      <td>1</td>\n",
       "      <td>0</td>\n",
       "      <td>SP</td>\n",
       "      <td>52</td>\n",
       "      <td>8.03</td>\n",
       "      <td>0</td>\n",
       "      <td>1190</td>\n",
       "      <td>14</td>\n",
       "      <td>0</td>\n",
       "      <td>2</td>\n",
       "    </tr>\n",
       "    <tr>\n",
       "      <th>1</th>\n",
       "      <td>Graduation</td>\n",
       "      <td>Single</td>\n",
       "      <td>57091.0</td>\n",
       "      <td>0</td>\n",
       "      <td>80.42</td>\n",
       "      <td>0.87</td>\n",
       "      <td>11.09</td>\n",
       "      <td>1.21</td>\n",
       "      <td>0.00</td>\n",
       "      <td>6.41</td>\n",
       "      <td>...</td>\n",
       "      <td>5</td>\n",
       "      <td>0</td>\n",
       "      <td>CA</td>\n",
       "      <td>61</td>\n",
       "      <td>8.03</td>\n",
       "      <td>0</td>\n",
       "      <td>577</td>\n",
       "      <td>17</td>\n",
       "      <td>1</td>\n",
       "      <td>1</td>\n",
       "    </tr>\n",
       "    <tr>\n",
       "      <th>2</th>\n",
       "      <td>Graduation</td>\n",
       "      <td>Married</td>\n",
       "      <td>67267.0</td>\n",
       "      <td>0</td>\n",
       "      <td>53.39</td>\n",
       "      <td>4.38</td>\n",
       "      <td>23.51</td>\n",
       "      <td>5.98</td>\n",
       "      <td>0.80</td>\n",
       "      <td>11.95</td>\n",
       "      <td>...</td>\n",
       "      <td>2</td>\n",
       "      <td>0</td>\n",
       "      <td>US</td>\n",
       "      <td>64</td>\n",
       "      <td>8.12</td>\n",
       "      <td>1</td>\n",
       "      <td>251</td>\n",
       "      <td>10</td>\n",
       "      <td>0</td>\n",
       "      <td>1</td>\n",
       "    </tr>\n",
       "    <tr>\n",
       "      <th>3</th>\n",
       "      <td>Graduation</td>\n",
       "      <td>Together</td>\n",
       "      <td>32474.0</td>\n",
       "      <td>0</td>\n",
       "      <td>90.91</td>\n",
       "      <td>0.00</td>\n",
       "      <td>9.09</td>\n",
       "      <td>0.00</td>\n",
       "      <td>0.00</td>\n",
       "      <td>0.00</td>\n",
       "      <td>...</td>\n",
       "      <td>7</td>\n",
       "      <td>0</td>\n",
       "      <td>AUS</td>\n",
       "      <td>55</td>\n",
       "      <td>8.13</td>\n",
       "      <td>2</td>\n",
       "      <td>11</td>\n",
       "      <td>3</td>\n",
       "      <td>0</td>\n",
       "      <td>1</td>\n",
       "    </tr>\n",
       "    <tr>\n",
       "      <th>4</th>\n",
       "      <td>Graduation</td>\n",
       "      <td>Single</td>\n",
       "      <td>21474.0</td>\n",
       "      <td>0</td>\n",
       "      <td>6.59</td>\n",
       "      <td>17.58</td>\n",
       "      <td>26.37</td>\n",
       "      <td>12.09</td>\n",
       "      <td>0.00</td>\n",
       "      <td>37.36</td>\n",
       "      <td>...</td>\n",
       "      <td>7</td>\n",
       "      <td>0</td>\n",
       "      <td>SP</td>\n",
       "      <td>33</td>\n",
       "      <td>8.22</td>\n",
       "      <td>1</td>\n",
       "      <td>91</td>\n",
       "      <td>6</td>\n",
       "      <td>1</td>\n",
       "      <td>3</td>\n",
       "    </tr>\n",
       "  </tbody>\n",
       "</table>\n",
       "<p>5 rows × 21 columns</p>\n",
       "</div>"
      ],
      "text/plain": [
       "    Education Marital_Status   Income  Recency  MntWines  MntFruits  \\\n",
       "0  Graduation       Divorced  84835.0        0     15.88       8.74   \n",
       "1  Graduation         Single  57091.0        0     80.42       0.87   \n",
       "2  Graduation        Married  67267.0        0     53.39       4.38   \n",
       "3  Graduation       Together  32474.0        0     90.91       0.00   \n",
       "4  Graduation         Single  21474.0        0      6.59      17.58   \n",
       "\n",
       "   MntMeatProducts  MntFishProducts  MntSweetProducts  MntGoldProds  ...  \\\n",
       "0            31.85             9.33             15.88         18.32  ...   \n",
       "1            11.09             1.21              0.00          6.41  ...   \n",
       "2            23.51             5.98              0.80         11.95  ...   \n",
       "3             9.09             0.00              0.00          0.00  ...   \n",
       "4            26.37            12.09              0.00         37.36  ...   \n",
       "\n",
       "   NumWebVisitsMonth  Complain  Country Age  Length_customer_yrs  Dependents  \\\n",
       "0                  1         0       SP  52                 8.03           0   \n",
       "1                  5         0       CA  61                 8.03           0   \n",
       "2                  2         0       US  64                 8.12           1   \n",
       "3                  7         0      AUS  55                 8.13           2   \n",
       "4                  7         0       SP  33                 8.22           1   \n",
       "\n",
       "   Total_Spent  total_purchases  Total_Accepted_Camp  Cluster  \n",
       "0         1190               14                    0        2  \n",
       "1          577               17                    1        1  \n",
       "2          251               10                    0        1  \n",
       "3           11                3                    0        1  \n",
       "4           91                6                    1        3  \n",
       "\n",
       "[5 rows x 21 columns]"
      ]
     },
     "execution_count": 68,
     "metadata": {},
     "output_type": "execute_result"
    }
   ],
   "source": [
    "seg_df.head()"
   ]
  },
  {
   "cell_type": "code",
   "execution_count": 71,
   "metadata": {},
   "outputs": [
    {
     "data": {
      "text/html": [
       "<div>\n",
       "<style scoped>\n",
       "    .dataframe tbody tr th:only-of-type {\n",
       "        vertical-align: middle;\n",
       "    }\n",
       "\n",
       "    .dataframe tbody tr th {\n",
       "        vertical-align: top;\n",
       "    }\n",
       "\n",
       "    .dataframe thead th {\n",
       "        text-align: right;\n",
       "    }\n",
       "</style>\n",
       "<table border=\"1\" class=\"dataframe\">\n",
       "  <thead>\n",
       "    <tr style=\"text-align: right;\">\n",
       "      <th></th>\n",
       "      <th>Education</th>\n",
       "      <th>Marital_Status</th>\n",
       "      <th>Income</th>\n",
       "      <th>Recency</th>\n",
       "      <th>MntWines</th>\n",
       "      <th>MntFruits</th>\n",
       "      <th>MntMeatProducts</th>\n",
       "      <th>MntFishProducts</th>\n",
       "      <th>MntSweetProducts</th>\n",
       "      <th>MntGoldProds</th>\n",
       "      <th>...</th>\n",
       "      <th>Country</th>\n",
       "      <th>Age</th>\n",
       "      <th>Length_customer_yrs</th>\n",
       "      <th>Dependents</th>\n",
       "      <th>Total_Spent</th>\n",
       "      <th>total_purchases</th>\n",
       "      <th>Total_Accepted_Camp</th>\n",
       "      <th>Cluster</th>\n",
       "      <th>component_1</th>\n",
       "      <th>component_2</th>\n",
       "    </tr>\n",
       "  </thead>\n",
       "  <tbody>\n",
       "    <tr>\n",
       "      <th>0</th>\n",
       "      <td>Graduation</td>\n",
       "      <td>Divorced</td>\n",
       "      <td>84835.0</td>\n",
       "      <td>0</td>\n",
       "      <td>15.88</td>\n",
       "      <td>8.74</td>\n",
       "      <td>31.85</td>\n",
       "      <td>9.33</td>\n",
       "      <td>15.88</td>\n",
       "      <td>18.32</td>\n",
       "      <td>...</td>\n",
       "      <td>SP</td>\n",
       "      <td>52</td>\n",
       "      <td>8.03</td>\n",
       "      <td>0</td>\n",
       "      <td>1190</td>\n",
       "      <td>14</td>\n",
       "      <td>0</td>\n",
       "      <td>2</td>\n",
       "      <td>0.281521</td>\n",
       "      <td>-3.257618</td>\n",
       "    </tr>\n",
       "    <tr>\n",
       "      <th>1</th>\n",
       "      <td>Graduation</td>\n",
       "      <td>Single</td>\n",
       "      <td>57091.0</td>\n",
       "      <td>0</td>\n",
       "      <td>80.42</td>\n",
       "      <td>0.87</td>\n",
       "      <td>11.09</td>\n",
       "      <td>1.21</td>\n",
       "      <td>0.00</td>\n",
       "      <td>6.41</td>\n",
       "      <td>...</td>\n",
       "      <td>CA</td>\n",
       "      <td>61</td>\n",
       "      <td>8.03</td>\n",
       "      <td>0</td>\n",
       "      <td>577</td>\n",
       "      <td>17</td>\n",
       "      <td>1</td>\n",
       "      <td>1</td>\n",
       "      <td>1.828689</td>\n",
       "      <td>0.534799</td>\n",
       "    </tr>\n",
       "    <tr>\n",
       "      <th>2</th>\n",
       "      <td>Graduation</td>\n",
       "      <td>Married</td>\n",
       "      <td>67267.0</td>\n",
       "      <td>0</td>\n",
       "      <td>53.39</td>\n",
       "      <td>4.38</td>\n",
       "      <td>23.51</td>\n",
       "      <td>5.98</td>\n",
       "      <td>0.80</td>\n",
       "      <td>11.95</td>\n",
       "      <td>...</td>\n",
       "      <td>US</td>\n",
       "      <td>64</td>\n",
       "      <td>8.12</td>\n",
       "      <td>1</td>\n",
       "      <td>251</td>\n",
       "      <td>10</td>\n",
       "      <td>0</td>\n",
       "      <td>1</td>\n",
       "      <td>0.437444</td>\n",
       "      <td>-0.023757</td>\n",
       "    </tr>\n",
       "    <tr>\n",
       "      <th>3</th>\n",
       "      <td>Graduation</td>\n",
       "      <td>Together</td>\n",
       "      <td>32474.0</td>\n",
       "      <td>0</td>\n",
       "      <td>90.91</td>\n",
       "      <td>0.00</td>\n",
       "      <td>9.09</td>\n",
       "      <td>0.00</td>\n",
       "      <td>0.00</td>\n",
       "      <td>0.00</td>\n",
       "      <td>...</td>\n",
       "      <td>AUS</td>\n",
       "      <td>55</td>\n",
       "      <td>8.13</td>\n",
       "      <td>2</td>\n",
       "      <td>11</td>\n",
       "      <td>3</td>\n",
       "      <td>0</td>\n",
       "      <td>1</td>\n",
       "      <td>-0.278708</td>\n",
       "      <td>2.971412</td>\n",
       "    </tr>\n",
       "    <tr>\n",
       "      <th>4</th>\n",
       "      <td>Graduation</td>\n",
       "      <td>Single</td>\n",
       "      <td>21474.0</td>\n",
       "      <td>0</td>\n",
       "      <td>6.59</td>\n",
       "      <td>17.58</td>\n",
       "      <td>26.37</td>\n",
       "      <td>12.09</td>\n",
       "      <td>0.00</td>\n",
       "      <td>37.36</td>\n",
       "      <td>...</td>\n",
       "      <td>SP</td>\n",
       "      <td>33</td>\n",
       "      <td>8.22</td>\n",
       "      <td>1</td>\n",
       "      <td>91</td>\n",
       "      <td>6</td>\n",
       "      <td>1</td>\n",
       "      <td>3</td>\n",
       "      <td>-3.235258</td>\n",
       "      <td>-1.127971</td>\n",
       "    </tr>\n",
       "  </tbody>\n",
       "</table>\n",
       "<p>5 rows × 23 columns</p>\n",
       "</div>"
      ],
      "text/plain": [
       "    Education Marital_Status   Income  Recency  MntWines  MntFruits  \\\n",
       "0  Graduation       Divorced  84835.0        0     15.88       8.74   \n",
       "1  Graduation         Single  57091.0        0     80.42       0.87   \n",
       "2  Graduation        Married  67267.0        0     53.39       4.38   \n",
       "3  Graduation       Together  32474.0        0     90.91       0.00   \n",
       "4  Graduation         Single  21474.0        0      6.59      17.58   \n",
       "\n",
       "   MntMeatProducts  MntFishProducts  MntSweetProducts  MntGoldProds  ...  \\\n",
       "0            31.85             9.33             15.88         18.32  ...   \n",
       "1            11.09             1.21              0.00          6.41  ...   \n",
       "2            23.51             5.98              0.80         11.95  ...   \n",
       "3             9.09             0.00              0.00          0.00  ...   \n",
       "4            26.37            12.09              0.00         37.36  ...   \n",
       "\n",
       "   Country  Age  Length_customer_yrs Dependents  Total_Spent  total_purchases  \\\n",
       "0       SP   52                 8.03          0         1190               14   \n",
       "1       CA   61                 8.03          0          577               17   \n",
       "2       US   64                 8.12          1          251               10   \n",
       "3      AUS   55                 8.13          2           11                3   \n",
       "4       SP   33                 8.22          1           91                6   \n",
       "\n",
       "   Total_Accepted_Camp  Cluster  component_1  component_2  \n",
       "0                    0        2     0.281521    -3.257618  \n",
       "1                    1        1     1.828689     0.534799  \n",
       "2                    0        1     0.437444    -0.023757  \n",
       "3                    0        1    -0.278708     2.971412  \n",
       "4                    1        3    -3.235258    -1.127971  \n",
       "\n",
       "[5 rows x 23 columns]"
      ]
     },
     "execution_count": 71,
     "metadata": {},
     "output_type": "execute_result"
    }
   ],
   "source": [
    "final_df = pd.merge(seg_df, pcadf, left_index=True, right_index=True)\n",
    "final_df.drop(columns=[\"predicted_cluster\"], inplace=True)\n",
    "final_df.head()"
   ]
  },
  {
   "cell_type": "code",
   "execution_count": 79,
   "metadata": {},
   "outputs": [
    {
     "data": {
      "text/plain": [
       "Cluster\n",
       "1    10447\n",
       "2    13054\n",
       "3     3979\n",
       "Name: total_purchases, dtype: int64"
      ]
     },
     "execution_count": 79,
     "metadata": {},
     "output_type": "execute_result"
    }
   ],
   "source": [
    "# for each column in seg_df, get some kind of aggregate statistic to compare each cluster\n",
    "for col in seg_df.columns:\n",
    "    \n",
    "    seg_df.groupby(\"Cluster\")[col].sum()"
   ]
  },
  {
   "cell_type": "code",
   "execution_count": 97,
   "metadata": {},
   "outputs": [
    {
     "data": {
      "text/plain": [
       "Text(0.5, 0.98, 'Total Purchases')"
      ]
     },
     "execution_count": 97,
     "metadata": {},
     "output_type": "execute_result"
    },
    {
     "data": {
      "image/png": "[encoded data removed]",
      "text/plain": [
       "<Figure size 432x288 with 1 Axes>"
      ]
     },
     "metadata": {
      "needs_background": "light"
     },
     "output_type": "display_data"
    }
   ],
   "source": [
    "# for dtype = \"int64\"\n",
    "error = list(seg_df.groupby(\"Cluster\")['total_purchases'].std())\n",
    "\n",
    "seg_df.groupby(\"Cluster\")['total_purchases'].mean().plot(kind='bar',yerr=error, align='center', capsize = 5)\n",
    "plt.suptitle(\"Total Purchases\")"
   ]
  },
  {
   "cell_type": "code",
   "execution_count": 98,
   "metadata": {},
   "outputs": [
    {
     "data": {
      "text/plain": [
       "Text(0.5, 0.98, 'Marital_Status')"
      ]
     },
     "execution_count": 98,
     "metadata": {},
     "output_type": "execute_result"
    },
    {
     "data": {
      "image/png": "[encoded data removed]",
      "text/plain": [
       "<Figure size 432x288 with 1 Axes>"
      ]
     },
     "metadata": {
      "needs_background": "light"
     },
     "output_type": "display_data"
    }
   ],
   "source": [
    "# for dtype object\n",
    "# seg_df.groupby(\"Cluster\")['Marital_Status'].value_counts().plot(kind = \"bar\")\n",
    "sns.histplot()\n",
    "plt.suptitle(\"Marital_Status\")"
   ]
  },
  {
   "cell_type": "code",
   "execution_count": 99,
   "metadata": {},
   "outputs": [
    {
     "data": {
      "text/plain": [
       "Text(0.5, 0.98, 'Income')"
      ]
     },
     "execution_count": 99,
     "metadata": {},
     "output_type": "execute_result"
    },
    {
     "data": {
      "image/png": "[encoded data removed]",
      "text/plain": [
       "<Figure size 432x288 with 1 Axes>"
      ]
     },
     "metadata": {
      "needs_background": "light"
     },
     "output_type": "display_data"
    }
   ],
   "source": [
    "# for dtype float\n",
    "error = list(seg_df.groupby(\"Cluster\")['Income'].std())\n",
    "\n",
    "seg_df.groupby(\"Cluster\")['Income'].mean().plot(kind='bar', yerr=error, align='center', capsize = 5)\n",
    "plt.suptitle(\"Income\")"
   ]
  },
  {
   "cell_type": "code",
   "execution_count": 109,
   "metadata": {},
   "outputs": [],
   "source": [
    "spend_df = pd.DataFrame()\n",
    "spend_df= seg_df[[\"Total_Spent\", \"total_purchases\", \"Cluster\"]]\n",
    "spend_df[\"Dollars per trip\"] = round(seg_df[\"Total_Spent\"] / seg_df['total_purchases'], 2)"
   ]
  },
  {
   "cell_type": "code",
   "execution_count": 111,
   "metadata": {},
   "outputs": [
    {
     "data": {
      "text/plain": [
       "<AxesSubplot:xlabel='total_purchases', ylabel='Dollars per trip'>"
      ]
     },
     "execution_count": 111,
     "metadata": {},
     "output_type": "execute_result"
    },
    {
     "data": {
      "image/png": "[encoded data removed]",
      "text/plain": [
       "<Figure size 432x288 with 1 Axes>"
      ]
     },
     "metadata": {
      "needs_background": "light"
     },
     "output_type": "display_data"
    }
   ],
   "source": [
    "plt.figsize=(6,4)\n",
    "sns.barplot(x=\"total_purchases\", y=\"Dollars per trip\", data=spend_df, hue=\"Cluster\")"
   ]
  },
  {
   "cell_type": "code",
   "execution_count": 110,
   "metadata": {},
   "outputs": [
    {
     "data": {
      "text/html": [
       "<div>\n",
       "<style scoped>\n",
       "    .dataframe tbody tr th:only-of-type {\n",
       "        vertical-align: middle;\n",
       "    }\n",
       "\n",
       "    .dataframe tbody tr th {\n",
       "        vertical-align: top;\n",
       "    }\n",
       "\n",
       "    .dataframe thead th {\n",
       "        text-align: right;\n",
       "    }\n",
       "</style>\n",
       "<table border=\"1\" class=\"dataframe\">\n",
       "  <thead>\n",
       "    <tr style=\"text-align: right;\">\n",
       "      <th></th>\n",
       "      <th>Total_Spent</th>\n",
       "      <th>total_purchases</th>\n",
       "      <th>Cluster</th>\n",
       "      <th>Dollars per trip</th>\n",
       "    </tr>\n",
       "  </thead>\n",
       "  <tbody>\n",
       "    <tr>\n",
       "      <th>0</th>\n",
       "      <td>1190</td>\n",
       "      <td>14</td>\n",
       "      <td>2</td>\n",
       "      <td>85.00</td>\n",
       "    </tr>\n",
       "    <tr>\n",
       "      <th>1</th>\n",
       "      <td>577</td>\n",
       "      <td>17</td>\n",
       "      <td>1</td>\n",
       "      <td>33.94</td>\n",
       "    </tr>\n",
       "    <tr>\n",
       "      <th>2</th>\n",
       "      <td>251</td>\n",
       "      <td>10</td>\n",
       "      <td>1</td>\n",
       "      <td>25.10</td>\n",
       "    </tr>\n",
       "    <tr>\n",
       "      <th>3</th>\n",
       "      <td>11</td>\n",
       "      <td>3</td>\n",
       "      <td>1</td>\n",
       "      <td>3.67</td>\n",
       "    </tr>\n",
       "    <tr>\n",
       "      <th>4</th>\n",
       "      <td>91</td>\n",
       "      <td>6</td>\n",
       "      <td>3</td>\n",
       "      <td>15.17</td>\n",
       "    </tr>\n",
       "  </tbody>\n",
       "</table>\n",
       "</div>"
      ],
      "text/plain": [
       "   Total_Spent  total_purchases  Cluster  Dollars per trip\n",
       "0         1190               14        2             85.00\n",
       "1          577               17        1             33.94\n",
       "2          251               10        1             25.10\n",
       "3           11                3        1              3.67\n",
       "4           91                6        3             15.17"
      ]
     },
     "execution_count": 110,
     "metadata": {},
     "output_type": "execute_result"
    }
   ],
   "source": [
    "spend_df.head()"
   ]
  },
  {
   "cell_type": "code",
   "execution_count": 112,
   "metadata": {},
   "outputs": [
    {
     "data": {
      "text/html": [
       "<div>\n",
       "<style scoped>\n",
       "    .dataframe tbody tr th:only-of-type {\n",
       "        vertical-align: middle;\n",
       "    }\n",
       "\n",
       "    .dataframe tbody tr th {\n",
       "        vertical-align: top;\n",
       "    }\n",
       "\n",
       "    .dataframe thead th {\n",
       "        text-align: right;\n",
       "    }\n",
       "</style>\n",
       "<table border=\"1\" class=\"dataframe\">\n",
       "  <thead>\n",
       "    <tr style=\"text-align: right;\">\n",
       "      <th></th>\n",
       "      <th>Total_Spent</th>\n",
       "      <th>total_purchases</th>\n",
       "      <th>Cluster</th>\n",
       "      <th>Dollars per trip</th>\n",
       "    </tr>\n",
       "  </thead>\n",
       "  <tbody>\n",
       "    <tr>\n",
       "      <th>448</th>\n",
       "      <td>6</td>\n",
       "      <td>0</td>\n",
       "      <td>3</td>\n",
       "      <td>inf</td>\n",
       "    </tr>\n",
       "    <tr>\n",
       "      <th>647</th>\n",
       "      <td>9</td>\n",
       "      <td>0</td>\n",
       "      <td>1</td>\n",
       "      <td>inf</td>\n",
       "    </tr>\n",
       "    <tr>\n",
       "      <th>1188</th>\n",
       "      <td>1679</td>\n",
       "      <td>1</td>\n",
       "      <td>2</td>\n",
       "      <td>1679.0</td>\n",
       "    </tr>\n",
       "    <tr>\n",
       "      <th>1261</th>\n",
       "      <td>5</td>\n",
       "      <td>0</td>\n",
       "      <td>3</td>\n",
       "      <td>inf</td>\n",
       "    </tr>\n",
       "    <tr>\n",
       "      <th>1432</th>\n",
       "      <td>8</td>\n",
       "      <td>0</td>\n",
       "      <td>3</td>\n",
       "      <td>inf</td>\n",
       "    </tr>\n",
       "    <tr>\n",
       "      <th>1783</th>\n",
       "      <td>6</td>\n",
       "      <td>0</td>\n",
       "      <td>2</td>\n",
       "      <td>inf</td>\n",
       "    </tr>\n",
       "    <tr>\n",
       "      <th>1880</th>\n",
       "      <td>8</td>\n",
       "      <td>0</td>\n",
       "      <td>2</td>\n",
       "      <td>inf</td>\n",
       "    </tr>\n",
       "  </tbody>\n",
       "</table>\n",
       "</div>"
      ],
      "text/plain": [
       "      Total_Spent  total_purchases  Cluster  Dollars per trip\n",
       "448             6                0        3               inf\n",
       "647             9                0        1               inf\n",
       "1188         1679                1        2            1679.0\n",
       "1261            5                0        3               inf\n",
       "1432            8                0        3               inf\n",
       "1783            6                0        2               inf\n",
       "1880            8                0        2               inf"
      ]
     },
     "execution_count": 112,
     "metadata": {},
     "output_type": "execute_result"
    }
   ],
   "source": [
    "spend_df[spend_df['Dollars per trip'] > 400]"
   ]
  },
  {
   "cell_type": "code",
   "execution_count": 116,
   "metadata": {},
   "outputs": [
    {
     "data": {
      "text/plain": [
       "2525"
      ]
     },
     "execution_count": 116,
     "metadata": {},
     "output_type": "execute_result"
    }
   ],
   "source": [
    "max_totalspent = seg_df['Total_Spent'].max()\n",
    "max_totalspent"
   ]
  },
  {
   "cell_type": "code",
   "execution_count": 117,
   "metadata": {},
   "outputs": [
    {
     "data": {
      "text/plain": [
       "655"
      ]
     },
     "execution_count": 117,
     "metadata": {},
     "output_type": "execute_result"
    }
   ],
   "source": [
    "maxidx_totalspent = seg_df['Total_Spent'].idxmax()\n",
    "maxidx_totalspent"
   ]
  },
  {
   "cell_type": "code",
   "execution_count": 118,
   "metadata": {},
   "outputs": [
    {
     "data": {
      "text/plain": [
       "Education               Master\n",
       "Marital_Status          Single\n",
       "Income                 90638.0\n",
       "Recency                     29\n",
       "MntWines                 45.78\n",
       "MntFruits                 4.75\n",
       "MntMeatProducts          36.24\n",
       "MntFishProducts           3.72\n",
       "MntSweetProducts           5.7\n",
       "MntGoldProds               3.8\n",
       "NumDealsPurchases            1\n",
       "NumWebVisitsMonth            1\n",
       "Complain                     0\n",
       "Country                     SP\n",
       "Age                         31\n",
       "Length_customer_yrs       8.37\n",
       "Dependents                   0\n",
       "Total_Spent               2525\n",
       "total_purchases             17\n",
       "Total_Accepted_Camp          1\n",
       "Cluster                      2\n",
       "Name: 655, dtype: object"
      ]
     },
     "execution_count": 118,
     "metadata": {},
     "output_type": "execute_result"
    }
   ],
   "source": [
    "seg_df.loc[655]"
   ]
  },
  {
   "cell_type": "code",
   "execution_count": null,
   "metadata": {},
   "outputs": [],
   "source": []
  }
 ],
 "metadata": {
  "kernelspec": {
   "display_name": "Python 3.9.10 ('tensorflow')",
   "language": "python",
   "name": "python3"
  },
  "language_info": {
   "codemirror_mode": {
    "name": "ipython",
    "version": 3
   },
   "file_extension": ".py",
   "mimetype": "text/x-python",
   "name": "python",
   "nbconvert_exporter": "python",
   "pygments_lexer": "ipython3",
   "version": "3.9.10"
  },
  "orig_nbformat": 4,
  "vscode": {
   "interpreter": {
    "hash": "4bd624a0593993fe43ac4046b27b898fb2ef75c21c08f81e89e64ea0f51df676"
   }
  }
 },
 "nbformat": 4,
 "nbformat_minor": 2
}
