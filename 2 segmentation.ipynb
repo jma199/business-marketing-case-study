{
 "cells": [
  {
   "cell_type": "markdown",
   "metadata": {},
   "source": [
    "# Marketing Case Study"
   ]
  },
  {
   "cell_type": "code",
   "execution_count": null,
   "metadata": {},
   "outputs": [],
   "source": [
    "import pandas as pd\n",
    "import numpy as np\n",
    "import matplotlib.pyplot as plt\n",
    "import seaborn as sns\n",
    "import datetime as dt\n",
    "\n",
    "import warnings\n",
    "warnings.filterwarnings(\"ignore\")"
   ]
  },
  {
   "cell_type": "markdown",
   "metadata": {},
   "source": [
    "## Customer Segmentation\n",
    "\n",
    "A key objective is to create a predictive model which allows the company to maximize the profits of the next marketing campaign."
   ]
  },
  {
   "cell_type": "code",
   "execution_count": null,
   "metadata": {},
   "outputs": [],
   "source": [
    "# load data\n",
    "with open(\"./data/marketing_data.csv\", \"r\") as f:\n",
    "    data = pd.read_csv(f)\n",
    "\n",
    "data.drop(columns=['ID'], inplace=True)\n",
    "data.drop_duplicates(inplace=True)\n",
    "data.head()"
   ]
  },
  {
   "cell_type": "code",
   "execution_count": null,
   "metadata": {},
   "outputs": [],
   "source": [
    "def clean_income(df):\n",
    "    df.rename(columns={\" Income \":\"Income\"}, inplace=True)\n",
    "    df['Income'] = df['Income'].str.replace(\"$\",\"\").str.replace(\",\",\"\")\n",
    "    df['Income'] = df['Income'].astype(float)\n",
    "    return df\n",
    "\n",
    "clean_income(data)\n",
    "data['Income'] = data['Income'].fillna(data['Income'].median())"
   ]
  },
  {
   "cell_type": "code",
   "execution_count": null,
   "metadata": {},
   "outputs": [],
   "source": [
    "def group_mstatus(df):\n",
    "    '''Function to consolidate the single-equivalent marital status options into one.'''\n",
    "    solo_status = ['YOLO', 'Alone', 'Absurd']\n",
    "    df['Marital_Status'] = df['Marital_Status'].replace(solo_status, 'Single')\n",
    "    return df\n",
    "\n",
    "group_mstatus(data)"
   ]
  },
  {
   "cell_type": "code",
   "execution_count": null,
   "metadata": {},
   "outputs": [],
   "source": [
    "# calculate age of customer\n",
    "data['Age'] = dt.date.today() - data['Year_Birth']\n",
    "data.drop(columns=['Year_Birth'], inplace=True)"
   ]
  },
  {
   "cell_type": "code",
   "execution_count": null,
   "metadata": {},
   "outputs": [],
   "source": [
    "# create dependents feature for kid and teen at home\n",
    "data['Dependents'] = data['Kidhome'] + data['Teenhome']"
   ]
  },
  {
   "cell_type": "code",
   "execution_count": 1,
   "metadata": {},
   "outputs": [
    {
     "ename": "NameError",
     "evalue": "name 'pd' is not defined",
     "output_type": "error",
     "traceback": [
      "\u001b[0;31m---------------------------------------------------------------------------\u001b[0m",
      "\u001b[0;31mNameError\u001b[0m                                 Traceback (most recent call last)",
      "\u001b[1;32m/Users/jennifer/Documents/GitHub/business-marketing-case-study/2 segmentation.ipynb Cell 10'\u001b[0m in \u001b[0;36m<module>\u001b[0;34m\u001b[0m\n\u001b[1;32m      <a href='vscode-notebook-cell:/Users/jennifer/Documents/GitHub/business-marketing-case-study/2%20segmentation.ipynb#ch0000002?line=0'>1</a>\u001b[0m \u001b[39m# convert Dt_Customer to datetime object\u001b[39;00m\n\u001b[0;32m----> <a href='vscode-notebook-cell:/Users/jennifer/Documents/GitHub/business-marketing-case-study/2%20segmentation.ipynb#ch0000002?line=1'>2</a>\u001b[0m data[\u001b[39m'\u001b[39m\u001b[39mDt_Customer\u001b[39m\u001b[39m'\u001b[39m] \u001b[39m=\u001b[39m pd\u001b[39m.\u001b[39mto_datetime(data[\u001b[39m'\u001b[39m\u001b[39mDt_Customer\u001b[39m\u001b[39m'\u001b[39m])\n\u001b[1;32m      <a href='vscode-notebook-cell:/Users/jennifer/Documents/GitHub/business-marketing-case-study/2%20segmentation.ipynb#ch0000002?line=3'>4</a>\u001b[0m \u001b[39m# calculate how long customer has been part of loyalty program\u001b[39;00m\n\u001b[1;32m      <a href='vscode-notebook-cell:/Users/jennifer/Documents/GitHub/business-marketing-case-study/2%20segmentation.ipynb#ch0000002?line=4'>5</a>\u001b[0m data[\u001b[39m'\u001b[39m\u001b[39mLength_customer\u001b[39m\u001b[39m'\u001b[39m] \u001b[39m=\u001b[39m dt\u001b[39m.\u001b[39mdate\u001b[39m.\u001b[39mtoday() \u001b[39m-\u001b[39m data[\u001b[39m'\u001b[39m\u001b[39mDt_Customer\u001b[39m\u001b[39m'\u001b[39m]\n",
      "\u001b[0;31mNameError\u001b[0m: name 'pd' is not defined"
     ]
    }
   ],
   "source": [
    "# convert Dt_Customer to datetime object\n",
    "data['Dt_Customer'] = pd.to_datetime(data['Dt_Customer'], format= '%m/%d/%y')\n",
    "today = pd.to_datetime(\"today\").strftime('%m-%d-%Y')\n",
    "\n",
    "def customer_loyalty(df):\n",
    "    ''' Calculate how long a customer has been part of a loyalty program (in years)'''\n",
    "    # df['Length_customer'] = pd.to_datetime(dt.date.today()) - df['Dt_Customer']\n",
    "    df['Length_customer'] = pd.to_datetime(today) - df['Dt_Customer']\n",
    "    df['Length_customer'] = [float(str(df['Length_customer'][x])[:4]) for x in df.index]\n",
    "    df['Length_customer'] = round(df['Length_customer']/365,2)\n",
    "    df.rename(columns = {'Length_customer':'Length_customer_yrs'}, inplace = True)\n",
    "    df.drop(columns='Dt_Customer', inplace = True)\n",
    "    return df\n",
    "\n",
    "customer_loyalty(data)"
   ]
  },
  {
   "cell_type": "code",
   "execution_count": null,
   "metadata": {},
   "outputs": [],
   "source": [
    "# calculate total amount spent per customer\n",
    "data['Total_Spent'] = np.sum(data.filter(regex='Mnt'), axis = 1)\n",
    "\n",
    "# calculate percentage spent on each different category\n",
    "for cat in data.filter(regex='Mnt', axis = 1).columns:\n",
    "    if (cat != \"Total_Spent\"):\n",
    "        data[cat] = round(data[cat] / data[\"Total_spent\"] * 100, 2)"
   ]
  },
  {
   "cell_type": "code",
   "execution_count": null,
   "metadata": {},
   "outputs": [],
   "source": [
    "# total number of purchases made by customer"
   ]
  },
  {
   "cell_type": "code",
   "execution_count": null,
   "metadata": {},
   "outputs": [],
   "source": [
    "# total number of past accepted campaigns\n",
    "data['Total_Accepted_Camp'] = np.sum(data.filter(regex=\"Cmp\"), axis=1)\n",
    "\n",
    "def get_cmp_cols(df):\n",
    "    col_list = df.columns.to_list()\n",
    "    return [col for col in col_list if 'Cmp' in col]\n",
    "\n",
    "cmp_cols = get_cmp_cols(data)"
   ]
  },
  {
   "cell_type": "code",
   "execution_count": null,
   "metadata": {},
   "outputs": [],
   "source": [
    "# data.drop(columns=cmp_cols, inplace=True)"
   ]
  },
  {
   "cell_type": "markdown",
   "metadata": {},
   "source": [
    "## Pre-Processing Data\n",
    "\n",
    "Performing customer segmentation using machine learning requires some preprocessing of the data.\n",
    "- First, if the data are skewed, then the data needs to be transformed\n",
    "- Next, there are a few categorical features that need to be encoded\n",
    "- Finally, the data are centered and scaled using StandardScaler() method."
   ]
  },
  {
   "cell_type": "code",
   "execution_count": null,
   "metadata": {},
   "outputs": [],
   "source": [
    "# encode the education column\n",
    "# data['Education'] = pd.get_dummies(data['Education'], prefix = 'edu')\n",
    "# data['Marital_Status'] = pd.get_dummies(data['Marital_Status'], prefix = 'mar')"
   ]
  },
  {
   "cell_type": "code",
   "execution_count": null,
   "metadata": {},
   "outputs": [],
   "source": [
    "from sklearn.compose import ColumnTransformer\n",
    "from sklearn.pipeline import Pipeline\n",
    "from sklearn.preprocessing import OneHotEncoder, OrdinalEncoder, StandardScaler\n",
    "from sklearn.cluster import KMeans\n"
   ]
  },
  {
   "cell_type": "code",
   "execution_count": null,
   "metadata": {},
   "outputs": [],
   "source": [
    "# use pipeline to prepare these steps for unsupervised learning\n",
    "\n",
    "nom_cat = ['Marital_Status']\n",
    "one_hot_encoder = OneHotEncoder(handle_unknown=\"ignore\")\n",
    "\n",
    "ord_cat = ['Education']\n",
    "ord_encoder = OrdinalEncoder()\n",
    "\n",
    "preprocessor = ColumnTransformer(\n",
    "    transformers= [\n",
    "        (\"nom\", one_hot_encoder, nom_cat),\n",
    "        (\"ord\", ord_encoder, ord_cat)\n",
    "    ]\n",
    ")"
   ]
  },
  {
   "cell_type": "code",
   "execution_count": null,
   "metadata": {},
   "outputs": [],
   "source": [
    "clf = Pipeline(\n",
    "    steps=[(\"preprocessor\", preprocessor), (\"scaler\", )]\n",
    ")"
   ]
  },
  {
   "cell_type": "code",
   "execution_count": null,
   "metadata": {},
   "outputs": [],
   "source": [
    "# data.drop(columns=['Education', 'Marital_Status'], inplace=True)"
   ]
  }
 ],
 "metadata": {
  "kernelspec": {
   "display_name": "Python 3.9.10 ('tensorflow')",
   "language": "python",
   "name": "python3"
  },
  "language_info": {
   "codemirror_mode": {
    "name": "ipython",
    "version": 3
   },
   "file_extension": ".py",
   "mimetype": "text/x-python",
   "name": "python",
   "nbconvert_exporter": "python",
   "pygments_lexer": "ipython3",
   "version": "3.9.10"
  },
  "orig_nbformat": 4,
  "vscode": {
   "interpreter": {
    "hash": "4bd624a0593993fe43ac4046b27b898fb2ef75c21c08f81e89e64ea0f51df676"
   }
  }
 },
 "nbformat": 4,
 "nbformat_minor": 2
}
